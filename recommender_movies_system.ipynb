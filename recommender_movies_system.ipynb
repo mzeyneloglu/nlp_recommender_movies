{
 "cells": [
  {
   "cell_type": "markdown",
   "id": "e9f246e2",
   "metadata": {},
   "source": [
    "# NLP Recommender Movies System\n",
    "\n",
    "İçerisinde 5000 filmin özelliklerinin bulunduğu bir veri seti üzerinden bir film tavsiye sistemi geliştiriyor olacağız.Bu sistemi geliştirirken NLP içerisinde sıkça kullanılan TfidfVectorizer işlevini kullanıyor olacağız.\n",
    "Veri setine [buradan](https://www.kaggle.com/datasets/tmdb/tmdb-movie-metadata?select=tmdb_5000_movies.csv) ulaşabilirsiniz."
   ]
  },
  {
   "cell_type": "code",
   "execution_count": 90,
   "id": "c91ccac4",
   "metadata": {},
   "outputs": [],
   "source": [
    "# Importing Libraries\n",
    "import pandas as pd\n",
    "import numpy as np\n",
    "import matplotlib.pyplot as plt\n",
    "import seaborn as sns\n",
    "import json\n",
    "\n",
    "from sklearn.feature_extraction.text import TfidfVectorizer\n",
    "from sklearn.metrics.pairwise import euclidean_distances , cosine_similarity"
   ]
  },
  {
   "cell_type": "code",
   "execution_count": 2,
   "id": "b09beb34",
   "metadata": {},
   "outputs": [],
   "source": [
    "movies = pd.read_csv('tmdb_5000_movies.csv')"
   ]
  },
  {
   "cell_type": "code",
   "execution_count": 152,
   "id": "85ff69c1",
   "metadata": {},
   "outputs": [
    {
     "data": {
      "text/html": [
       "<div>\n",
       "<style scoped>\n",
       "    .dataframe tbody tr th:only-of-type {\n",
       "        vertical-align: middle;\n",
       "    }\n",
       "\n",
       "    .dataframe tbody tr th {\n",
       "        vertical-align: top;\n",
       "    }\n",
       "\n",
       "    .dataframe thead th {\n",
       "        text-align: right;\n",
       "    }\n",
       "</style>\n",
       "<table border=\"1\" class=\"dataframe\">\n",
       "  <thead>\n",
       "    <tr style=\"text-align: right;\">\n",
       "      <th></th>\n",
       "      <th>0</th>\n",
       "      <th>1</th>\n",
       "      <th>2</th>\n",
       "    </tr>\n",
       "  </thead>\n",
       "  <tbody>\n",
       "    <tr>\n",
       "      <th>budget</th>\n",
       "      <td>237000000</td>\n",
       "      <td>300000000</td>\n",
       "      <td>245000000</td>\n",
       "    </tr>\n",
       "    <tr>\n",
       "      <th>genres</th>\n",
       "      <td>[{\"id\": 28, \"name\": \"Action\"}, {\"id\": 12, \"nam...</td>\n",
       "      <td>[{\"id\": 12, \"name\": \"Adventure\"}, {\"id\": 14, \"...</td>\n",
       "      <td>[{\"id\": 28, \"name\": \"Action\"}, {\"id\": 12, \"nam...</td>\n",
       "    </tr>\n",
       "    <tr>\n",
       "      <th>homepage</th>\n",
       "      <td>http://www.avatarmovie.com/</td>\n",
       "      <td>http://disney.go.com/disneypictures/pirates/</td>\n",
       "      <td>http://www.sonypictures.com/movies/spectre/</td>\n",
       "    </tr>\n",
       "    <tr>\n",
       "      <th>id</th>\n",
       "      <td>19995</td>\n",
       "      <td>285</td>\n",
       "      <td>206647</td>\n",
       "    </tr>\n",
       "    <tr>\n",
       "      <th>keywords</th>\n",
       "      <td>[{\"id\": 1463, \"name\": \"culture clash\"}, {\"id\":...</td>\n",
       "      <td>[{\"id\": 270, \"name\": \"ocean\"}, {\"id\": 726, \"na...</td>\n",
       "      <td>[{\"id\": 470, \"name\": \"spy\"}, {\"id\": 818, \"name...</td>\n",
       "    </tr>\n",
       "    <tr>\n",
       "      <th>original_language</th>\n",
       "      <td>en</td>\n",
       "      <td>en</td>\n",
       "      <td>en</td>\n",
       "    </tr>\n",
       "    <tr>\n",
       "      <th>original_title</th>\n",
       "      <td>Avatar</td>\n",
       "      <td>Pirates of the Caribbean: At World's End</td>\n",
       "      <td>Spectre</td>\n",
       "    </tr>\n",
       "    <tr>\n",
       "      <th>overview</th>\n",
       "      <td>In the 22nd century, a paraplegic Marine is di...</td>\n",
       "      <td>Captain Barbossa, long believed to be dead, ha...</td>\n",
       "      <td>A cryptic message from Bond’s past sends him o...</td>\n",
       "    </tr>\n",
       "    <tr>\n",
       "      <th>popularity</th>\n",
       "      <td>150.437577</td>\n",
       "      <td>139.082615</td>\n",
       "      <td>107.376788</td>\n",
       "    </tr>\n",
       "    <tr>\n",
       "      <th>production_companies</th>\n",
       "      <td>[{\"name\": \"Ingenious Film Partners\", \"id\": 289...</td>\n",
       "      <td>[{\"name\": \"Walt Disney Pictures\", \"id\": 2}, {\"...</td>\n",
       "      <td>[{\"name\": \"Columbia Pictures\", \"id\": 5}, {\"nam...</td>\n",
       "    </tr>\n",
       "    <tr>\n",
       "      <th>production_countries</th>\n",
       "      <td>[{\"iso_3166_1\": \"US\", \"name\": \"United States o...</td>\n",
       "      <td>[{\"iso_3166_1\": \"US\", \"name\": \"United States o...</td>\n",
       "      <td>[{\"iso_3166_1\": \"GB\", \"name\": \"United Kingdom\"...</td>\n",
       "    </tr>\n",
       "    <tr>\n",
       "      <th>release_date</th>\n",
       "      <td>2009-12-10</td>\n",
       "      <td>2007-05-19</td>\n",
       "      <td>2015-10-26</td>\n",
       "    </tr>\n",
       "    <tr>\n",
       "      <th>revenue</th>\n",
       "      <td>2787965087</td>\n",
       "      <td>961000000</td>\n",
       "      <td>880674609</td>\n",
       "    </tr>\n",
       "    <tr>\n",
       "      <th>runtime</th>\n",
       "      <td>162.0</td>\n",
       "      <td>169.0</td>\n",
       "      <td>148.0</td>\n",
       "    </tr>\n",
       "    <tr>\n",
       "      <th>spoken_languages</th>\n",
       "      <td>[{\"iso_639_1\": \"en\", \"name\": \"English\"}, {\"iso...</td>\n",
       "      <td>[{\"iso_639_1\": \"en\", \"name\": \"English\"}]</td>\n",
       "      <td>[{\"iso_639_1\": \"fr\", \"name\": \"Fran\\u00e7ais\"},...</td>\n",
       "    </tr>\n",
       "    <tr>\n",
       "      <th>status</th>\n",
       "      <td>Released</td>\n",
       "      <td>Released</td>\n",
       "      <td>Released</td>\n",
       "    </tr>\n",
       "    <tr>\n",
       "      <th>tagline</th>\n",
       "      <td>Enter the World of Pandora.</td>\n",
       "      <td>At the end of the world, the adventure begins.</td>\n",
       "      <td>A Plan No One Escapes</td>\n",
       "    </tr>\n",
       "    <tr>\n",
       "      <th>title</th>\n",
       "      <td>Avatar</td>\n",
       "      <td>Pirates of the Caribbean: At World's End</td>\n",
       "      <td>Spectre</td>\n",
       "    </tr>\n",
       "    <tr>\n",
       "      <th>vote_average</th>\n",
       "      <td>7.2</td>\n",
       "      <td>6.9</td>\n",
       "      <td>6.3</td>\n",
       "    </tr>\n",
       "    <tr>\n",
       "      <th>vote_count</th>\n",
       "      <td>11800</td>\n",
       "      <td>4500</td>\n",
       "      <td>4466</td>\n",
       "    </tr>\n",
       "    <tr>\n",
       "      <th>string</th>\n",
       "      <td>Action Adventure Fantasy ScienceFiction cultur...</td>\n",
       "      <td>Adventure Fantasy Action ocean drugabuse exoti...</td>\n",
       "      <td>Action Adventure Crime spy basedonnovel secret...</td>\n",
       "    </tr>\n",
       "  </tbody>\n",
       "</table>\n",
       "</div>"
      ],
      "text/plain": [
       "                                                                      0  \\\n",
       "budget                                                        237000000   \n",
       "genres                [{\"id\": 28, \"name\": \"Action\"}, {\"id\": 12, \"nam...   \n",
       "homepage                                    http://www.avatarmovie.com/   \n",
       "id                                                                19995   \n",
       "keywords              [{\"id\": 1463, \"name\": \"culture clash\"}, {\"id\":...   \n",
       "original_language                                                    en   \n",
       "original_title                                                   Avatar   \n",
       "overview              In the 22nd century, a paraplegic Marine is di...   \n",
       "popularity                                                   150.437577   \n",
       "production_companies  [{\"name\": \"Ingenious Film Partners\", \"id\": 289...   \n",
       "production_countries  [{\"iso_3166_1\": \"US\", \"name\": \"United States o...   \n",
       "release_date                                                 2009-12-10   \n",
       "revenue                                                      2787965087   \n",
       "runtime                                                           162.0   \n",
       "spoken_languages      [{\"iso_639_1\": \"en\", \"name\": \"English\"}, {\"iso...   \n",
       "status                                                         Released   \n",
       "tagline                                     Enter the World of Pandora.   \n",
       "title                                                            Avatar   \n",
       "vote_average                                                        7.2   \n",
       "vote_count                                                        11800   \n",
       "string                Action Adventure Fantasy ScienceFiction cultur...   \n",
       "\n",
       "                                                                      1  \\\n",
       "budget                                                        300000000   \n",
       "genres                [{\"id\": 12, \"name\": \"Adventure\"}, {\"id\": 14, \"...   \n",
       "homepage                   http://disney.go.com/disneypictures/pirates/   \n",
       "id                                                                  285   \n",
       "keywords              [{\"id\": 270, \"name\": \"ocean\"}, {\"id\": 726, \"na...   \n",
       "original_language                                                    en   \n",
       "original_title                 Pirates of the Caribbean: At World's End   \n",
       "overview              Captain Barbossa, long believed to be dead, ha...   \n",
       "popularity                                                   139.082615   \n",
       "production_companies  [{\"name\": \"Walt Disney Pictures\", \"id\": 2}, {\"...   \n",
       "production_countries  [{\"iso_3166_1\": \"US\", \"name\": \"United States o...   \n",
       "release_date                                                 2007-05-19   \n",
       "revenue                                                       961000000   \n",
       "runtime                                                           169.0   \n",
       "spoken_languages               [{\"iso_639_1\": \"en\", \"name\": \"English\"}]   \n",
       "status                                                         Released   \n",
       "tagline                  At the end of the world, the adventure begins.   \n",
       "title                          Pirates of the Caribbean: At World's End   \n",
       "vote_average                                                        6.9   \n",
       "vote_count                                                         4500   \n",
       "string                Adventure Fantasy Action ocean drugabuse exoti...   \n",
       "\n",
       "                                                                      2  \n",
       "budget                                                        245000000  \n",
       "genres                [{\"id\": 28, \"name\": \"Action\"}, {\"id\": 12, \"nam...  \n",
       "homepage                    http://www.sonypictures.com/movies/spectre/  \n",
       "id                                                               206647  \n",
       "keywords              [{\"id\": 470, \"name\": \"spy\"}, {\"id\": 818, \"name...  \n",
       "original_language                                                    en  \n",
       "original_title                                                  Spectre  \n",
       "overview              A cryptic message from Bond’s past sends him o...  \n",
       "popularity                                                   107.376788  \n",
       "production_companies  [{\"name\": \"Columbia Pictures\", \"id\": 5}, {\"nam...  \n",
       "production_countries  [{\"iso_3166_1\": \"GB\", \"name\": \"United Kingdom\"...  \n",
       "release_date                                                 2015-10-26  \n",
       "revenue                                                       880674609  \n",
       "runtime                                                           148.0  \n",
       "spoken_languages      [{\"iso_639_1\": \"fr\", \"name\": \"Fran\\u00e7ais\"},...  \n",
       "status                                                         Released  \n",
       "tagline                                           A Plan No One Escapes  \n",
       "title                                                           Spectre  \n",
       "vote_average                                                        6.3  \n",
       "vote_count                                                         4466  \n",
       "string                Action Adventure Crime spy basedonnovel secret...  "
      ]
     },
     "execution_count": 152,
     "metadata": {},
     "output_type": "execute_result"
    }
   ],
   "source": [
    "movies.head(3).T"
   ]
  },
  {
   "cell_type": "code",
   "execution_count": 5,
   "id": "9e2948cc",
   "metadata": {},
   "outputs": [
    {
     "name": "stdout",
     "output_type": "stream",
     "text": [
      "<class 'pandas.core.frame.DataFrame'>\n",
      "RangeIndex: 4803 entries, 0 to 4802\n",
      "Data columns (total 20 columns):\n",
      " #   Column                Non-Null Count  Dtype  \n",
      "---  ------                --------------  -----  \n",
      " 0   budget                4803 non-null   int64  \n",
      " 1   genres                4803 non-null   object \n",
      " 2   homepage              1712 non-null   object \n",
      " 3   id                    4803 non-null   int64  \n",
      " 4   keywords              4803 non-null   object \n",
      " 5   original_language     4803 non-null   object \n",
      " 6   original_title        4803 non-null   object \n",
      " 7   overview              4800 non-null   object \n",
      " 8   popularity            4803 non-null   float64\n",
      " 9   production_companies  4803 non-null   object \n",
      " 10  production_countries  4803 non-null   object \n",
      " 11  release_date          4802 non-null   object \n",
      " 12  revenue               4803 non-null   int64  \n",
      " 13  runtime               4801 non-null   float64\n",
      " 14  spoken_languages      4803 non-null   object \n",
      " 15  status                4803 non-null   object \n",
      " 16  tagline               3959 non-null   object \n",
      " 17  title                 4803 non-null   object \n",
      " 18  vote_average          4803 non-null   float64\n",
      " 19  vote_count            4803 non-null   int64  \n",
      "dtypes: float64(3), int64(4), object(13)\n",
      "memory usage: 750.6+ KB\n"
     ]
    }
   ],
   "source": [
    "movies.info()"
   ]
  },
  {
   "cell_type": "code",
   "execution_count": 13,
   "id": "8f353277",
   "metadata": {},
   "outputs": [
    {
     "name": "stdout",
     "output_type": "stream",
     "text": [
      "Number of observetion: 4803\n",
      "Number of features: 20\n",
      "------------------------------------------------------------\n",
      "Categorical Features: Index(['genres', 'homepage', 'keywords', 'original_language', 'original_title',\n",
      "       'overview', 'production_companies', 'production_countries',\n",
      "       'release_date', 'spoken_languages', 'status', 'tagline', 'title'],\n",
      "      dtype='object')\n",
      "\n",
      "Numerical Features: Index(['budget', 'id', 'popularity', 'revenue', 'runtime', 'vote_average',\n",
      "       'vote_count'],\n",
      "      dtype='object')\n"
     ]
    }
   ],
   "source": [
    "def overview_dataset(df):\n",
    "    # Observetions\n",
    "    print(\"Number of observetion:\", df.shape[0])\n",
    "    # Features\n",
    "    print(\"Number of features:\", df.shape[1])\n",
    "    print(\"-\"*60)\n",
    "    #Categorical Features\n",
    "    print(\"Categorical Features:\", df.select_dtypes(include = [object]).columns)\n",
    "    print(\"\")\n",
    "    # Numerical Features\n",
    "    print(\"Numerical Features:\", df.select_dtypes(include = [int,float]).columns)\n",
    "    \n",
    "overview_dataset(movies)"
   ]
  },
  {
   "cell_type": "code",
   "execution_count": 156,
   "id": "1cb10104",
   "metadata": {
    "scrolled": false
   },
   "outputs": [
    {
     "data": {
      "image/png": "[encoded data removed]",
      "text/plain": [
       "<Figure size 1008x360 with 1 Axes>"
      ]
     },
     "metadata": {
      "needs_background": "light"
     },
     "output_type": "display_data"
    }
   ],
   "source": [
    "def describe_plot(df):\n",
    "    numerical_col = df.select_dtypes(include = [int,float]).columns\n",
    "    describe_numcol_values = df[numerical_col].describe().T\n",
    "    \n",
    "    plt.figure(figsize = (14,5))\n",
    "    sns.heatmap(describe_numcol_values,\n",
    "                annot = True,\n",
    "                cmap = \"Blues\",\n",
    "                fmt= '.2f',\n",
    "                linecolor = 'white',\n",
    "                linewidths = 1.35,\n",
    "                cbar = False,\n",
    "                annot_kws = {\"size\": 14})\n",
    "    plt.title(\"Numerical Variables Descriptive Statistics\" , fontsize = 20)\n",
    "    plt.show()\n",
    "describe_plot(movies)"
   ]
  },
  {
   "cell_type": "code",
   "execution_count": 20,
   "id": "aec1ea48",
   "metadata": {},
   "outputs": [
    {
     "data": {
      "text/html": [
       "<div>\n",
       "<style scoped>\n",
       "    .dataframe tbody tr th:only-of-type {\n",
       "        vertical-align: middle;\n",
       "    }\n",
       "\n",
       "    .dataframe tbody tr th {\n",
       "        vertical-align: top;\n",
       "    }\n",
       "\n",
       "    .dataframe thead th {\n",
       "        text-align: right;\n",
       "    }\n",
       "</style>\n",
       "<table border=\"1\" class=\"dataframe\">\n",
       "  <thead>\n",
       "    <tr style=\"text-align: right;\">\n",
       "      <th></th>\n",
       "      <th>count</th>\n",
       "      <th>unique</th>\n",
       "      <th>top</th>\n",
       "      <th>freq</th>\n",
       "    </tr>\n",
       "  </thead>\n",
       "  <tbody>\n",
       "    <tr>\n",
       "      <th>genres</th>\n",
       "      <td>4803</td>\n",
       "      <td>1175</td>\n",
       "      <td>[{\"id\": 18, \"name\": \"Drama\"}]</td>\n",
       "      <td>370</td>\n",
       "    </tr>\n",
       "    <tr>\n",
       "      <th>homepage</th>\n",
       "      <td>1712</td>\n",
       "      <td>1691</td>\n",
       "      <td>http://www.missionimpossible.com/</td>\n",
       "      <td>4</td>\n",
       "    </tr>\n",
       "    <tr>\n",
       "      <th>keywords</th>\n",
       "      <td>4803</td>\n",
       "      <td>4222</td>\n",
       "      <td>[]</td>\n",
       "      <td>412</td>\n",
       "    </tr>\n",
       "    <tr>\n",
       "      <th>original_language</th>\n",
       "      <td>4803</td>\n",
       "      <td>37</td>\n",
       "      <td>en</td>\n",
       "      <td>4505</td>\n",
       "    </tr>\n",
       "    <tr>\n",
       "      <th>original_title</th>\n",
       "      <td>4803</td>\n",
       "      <td>4801</td>\n",
       "      <td>Out of the Blue</td>\n",
       "      <td>2</td>\n",
       "    </tr>\n",
       "    <tr>\n",
       "      <th>overview</th>\n",
       "      <td>4800</td>\n",
       "      <td>4800</td>\n",
       "      <td>In the 22nd century, a paraplegic Marine is di...</td>\n",
       "      <td>1</td>\n",
       "    </tr>\n",
       "    <tr>\n",
       "      <th>production_companies</th>\n",
       "      <td>4803</td>\n",
       "      <td>3697</td>\n",
       "      <td>[]</td>\n",
       "      <td>351</td>\n",
       "    </tr>\n",
       "    <tr>\n",
       "      <th>production_countries</th>\n",
       "      <td>4803</td>\n",
       "      <td>469</td>\n",
       "      <td>[{\"iso_3166_1\": \"US\", \"name\": \"United States o...</td>\n",
       "      <td>2977</td>\n",
       "    </tr>\n",
       "    <tr>\n",
       "      <th>release_date</th>\n",
       "      <td>4802</td>\n",
       "      <td>3280</td>\n",
       "      <td>2006-01-01</td>\n",
       "      <td>10</td>\n",
       "    </tr>\n",
       "    <tr>\n",
       "      <th>spoken_languages</th>\n",
       "      <td>4803</td>\n",
       "      <td>544</td>\n",
       "      <td>[{\"iso_639_1\": \"en\", \"name\": \"English\"}]</td>\n",
       "      <td>3171</td>\n",
       "    </tr>\n",
       "    <tr>\n",
       "      <th>status</th>\n",
       "      <td>4803</td>\n",
       "      <td>3</td>\n",
       "      <td>Released</td>\n",
       "      <td>4795</td>\n",
       "    </tr>\n",
       "    <tr>\n",
       "      <th>tagline</th>\n",
       "      <td>3959</td>\n",
       "      <td>3944</td>\n",
       "      <td>Based on a true story.</td>\n",
       "      <td>3</td>\n",
       "    </tr>\n",
       "    <tr>\n",
       "      <th>title</th>\n",
       "      <td>4803</td>\n",
       "      <td>4800</td>\n",
       "      <td>The Host</td>\n",
       "      <td>2</td>\n",
       "    </tr>\n",
       "  </tbody>\n",
       "</table>\n",
       "</div>"
      ],
      "text/plain": [
       "                     count unique  \\\n",
       "genres                4803   1175   \n",
       "homepage              1712   1691   \n",
       "keywords              4803   4222   \n",
       "original_language     4803     37   \n",
       "original_title        4803   4801   \n",
       "overview              4800   4800   \n",
       "production_companies  4803   3697   \n",
       "production_countries  4803    469   \n",
       "release_date          4802   3280   \n",
       "spoken_languages      4803    544   \n",
       "status                4803      3   \n",
       "tagline               3959   3944   \n",
       "title                 4803   4800   \n",
       "\n",
       "                                                                    top  freq  \n",
       "genres                                    [{\"id\": 18, \"name\": \"Drama\"}]   370  \n",
       "homepage                              http://www.missionimpossible.com/     4  \n",
       "keywords                                                             []   412  \n",
       "original_language                                                    en  4505  \n",
       "original_title                                          Out of the Blue     2  \n",
       "overview              In the 22nd century, a paraplegic Marine is di...     1  \n",
       "production_companies                                                 []   351  \n",
       "production_countries  [{\"iso_3166_1\": \"US\", \"name\": \"United States o...  2977  \n",
       "release_date                                                 2006-01-01    10  \n",
       "spoken_languages               [{\"iso_639_1\": \"en\", \"name\": \"English\"}]  3171  \n",
       "status                                                         Released  4795  \n",
       "tagline                                          Based on a true story.     3  \n",
       "title                                                          The Host     2  "
      ]
     },
     "execution_count": 20,
     "metadata": {},
     "output_type": "execute_result"
    }
   ],
   "source": [
    "# Categorical Variables - Describe\n",
    "movies[movies.select_dtypes(include=[object]).columns].describe().T"
   ]
  },
  {
   "cell_type": "markdown",
   "id": "d2e634f3",
   "metadata": {},
   "source": [
    "---"
   ]
  },
  {
   "cell_type": "markdown",
   "id": "1ac82618",
   "metadata": {},
   "source": [
    "---"
   ]
  },
  {
   "cell_type": "markdown",
   "id": "af04840a",
   "metadata": {},
   "source": [
    "``genres`` , ``keywords`` , ``productions_countires`` , ``spoken_languages`` ve ``production_companies`` değişkenleri **json** formatındalar.Bu değişkenleri json olarak yükleyip ardından içerisinden istediğimiz değerlere ulaşıyor olacağız.Fakat film tavsiyesi için kullanıyor olacağımız değişkenler genres ve keywords olacaktır.json olarak yükleme istememizin sebebi şuan için liste içerisinde sözlükler bulunuyor fakat string formatındalar biz bunları liste olarak alıp aynı şekilde içindeki sözlüklere ulaşabiliyor olacağız."
   ]
  },
  {
   "cell_type": "code",
   "execution_count": 22,
   "id": "f1589a11",
   "metadata": {},
   "outputs": [
    {
     "data": {
      "text/plain": [
       "budget                                                          237000000\n",
       "genres                  [{\"id\": 28, \"name\": \"Action\"}, {\"id\": 12, \"nam...\n",
       "homepage                                      http://www.avatarmovie.com/\n",
       "id                                                                  19995\n",
       "keywords                [{\"id\": 1463, \"name\": \"culture clash\"}, {\"id\":...\n",
       "original_language                                                      en\n",
       "original_title                                                     Avatar\n",
       "overview                In the 22nd century, a paraplegic Marine is di...\n",
       "popularity                                                     150.437577\n",
       "production_companies    [{\"name\": \"Ingenious Film Partners\", \"id\": 289...\n",
       "production_countries    [{\"iso_3166_1\": \"US\", \"name\": \"United States o...\n",
       "release_date                                                   2009-12-10\n",
       "revenue                                                        2787965087\n",
       "runtime                                                             162.0\n",
       "spoken_languages        [{\"iso_639_1\": \"en\", \"name\": \"English\"}, {\"iso...\n",
       "status                                                           Released\n",
       "tagline                                       Enter the World of Pandora.\n",
       "title                                                              Avatar\n",
       "vote_average                                                          7.2\n",
       "vote_count                                                          11800\n",
       "Name: 0, dtype: object"
      ]
     },
     "execution_count": 22,
     "metadata": {},
     "output_type": "execute_result"
    }
   ],
   "source": [
    "x = movies.iloc[0]\n",
    "x"
   ]
  },
  {
   "cell_type": "code",
   "execution_count": 31,
   "id": "545672f4",
   "metadata": {},
   "outputs": [
    {
     "data": {
      "text/plain": [
       "([{'id': 28, 'name': 'Action'},\n",
       "  {'id': 12, 'name': 'Adventure'},\n",
       "  {'id': 14, 'name': 'Fantasy'},\n",
       "  {'id': 878, 'name': 'Science Fiction'}],\n",
       " list,\n",
       " dict)"
      ]
     },
     "execution_count": 31,
     "metadata": {},
     "output_type": "execute_result"
    }
   ],
   "source": [
    "j = json.loads(x['genres'])\n",
    "j, type(j),type(j[0])"
   ]
  },
  {
   "cell_type": "code",
   "execution_count": 40,
   "id": "c6b8dbf9",
   "metadata": {},
   "outputs": [
    {
     "data": {
      "text/plain": [
       "'Action Adventure Fantasy ScienceFiction'"
      ]
     },
     "execution_count": 40,
     "metadata": {},
     "output_type": "execute_result"
    }
   ],
   "source": [
    "' '.join(''.join(jj['name'].split())  for jj in j)"
   ]
  },
  {
   "cell_type": "markdown",
   "id": "863c93c0",
   "metadata": {},
   "source": [
    "``genres`` ve ``keywords`` değişkenlerimizde önemli bilgiler tutulmaktadır fakat biz  **id** değerlerini istemiyoruz.Bu bakımdan liste olarak alabilmemiz için öncelikle json yüklemesi gerçekleştiriyoruz ve sonrasında **name** değerlerini alabilmek için join ve split fonksiyonlarını kullanarak name değerlerini temsil eden türleri tek bir string olarak gösteriyoruz.\n",
    "\n",
    "genres ve keywords değişkenleri içerisindeki name anahtarından aldığımız değerleri tek bir string üzerinde birleştirme işlemi yaparak filmlerin türlerini ve anahtar kelimelerini alıyor olacağız."
   ]
  },
  {
   "cell_type": "code",
   "execution_count": 71,
   "id": "e2d2655d",
   "metadata": {},
   "outputs": [
    {
     "data": {
      "text/plain": [
       "'Action Adventure Fantasy ScienceFiction cultureclash future spacewar spacecolony society spacetravel futuristic romance space alien tribe alienplanet cgi marine soldier battle loveaffair antiwar powerrelations mindandsoul 3d'"
      ]
     },
     "execution_count": 71,
     "metadata": {},
     "output_type": "execute_result"
    }
   ],
   "source": [
    "def genres_and_keywords_to_string(row):\n",
    "    # genres\n",
    "    genres = json.loads(row['genres'])\n",
    "    genre = ' '.join(''.join(j['name'].split())  for j in genres)\n",
    "    \n",
    "    # keywords\n",
    "    keywords = json.loads(row['keywords'])\n",
    "    keyword = ' '.join(''.join(j['name'].split())  for j in keywords)\n",
    "    \n",
    "    return \"%s %s\" % (genre, keyword)\n",
    "\n",
    "genres_and_keywords_to_string(x)"
   ]
  },
  {
   "cell_type": "code",
   "execution_count": 52,
   "id": "3b3bea24",
   "metadata": {},
   "outputs": [],
   "source": [
    "movies['string'] = movies.apply(genres_and_keywords_to_string , axis=1)"
   ]
  },
  {
   "cell_type": "code",
   "execution_count": 59,
   "id": "071508f3",
   "metadata": {},
   "outputs": [
    {
     "data": {
      "text/plain": [
       "0    Action Adventure Fantasy ScienceFiction cultur...\n",
       "1    Adventure Fantasy Action ocean drugabuse exoti...\n",
       "2    Action Adventure Crime spy basedonnovel secret...\n",
       "3    Action Crime Drama Thriller dccomics crimefigh...\n",
       "4    Action Adventure ScienceFiction basedonnovel m...\n",
       "Name: string, dtype: object"
      ]
     },
     "execution_count": 59,
     "metadata": {},
     "output_type": "execute_result"
    }
   ],
   "source": [
    "movies['string'].head()"
   ]
  },
  {
   "cell_type": "markdown",
   "id": "5d4a1aa1",
   "metadata": {},
   "source": [
    "Filmlerin türlerini ve anahtar kelimelerini ``string`` sütununda temsil ettiğimize göre bu değerleri vektörleştirme işlemi yapabiliriz bunun için TF-IDF Vectorizer kullanıyor olacağız."
   ]
  },
  {
   "cell_type": "code",
   "execution_count": 63,
   "id": "d11e7ab5",
   "metadata": {},
   "outputs": [],
   "source": [
    "tfidf = TfidfVectorizer(max_features = 2000)"
   ]
  },
  {
   "cell_type": "markdown",
   "id": "9ce69c35",
   "metadata": {},
   "source": [
    "**max_features**, vektörleştirme işlemi sonucu Compressed Sparse Row matrix oluşacaktır bu matrixin sütun sayısını max_features ile belirtebiliriz.Bu şu demek oluyor en çok tekrar eden değerleri ,sözcükleri al demektir.Çok az tekrar eden değerleri alsın istemiyoruz.Bu değer deneme yanılma yolu ile daha iyi değer seçilebilir."
   ]
  },
  {
   "cell_type": "code",
   "execution_count": 64,
   "id": "a02daf77",
   "metadata": {},
   "outputs": [
    {
     "data": {
      "text/plain": [
       "<4803x2000 sparse matrix of type '<class 'numpy.float64'>'\n",
       "\twith 37285 stored elements in Compressed Sparse Row format>"
      ]
     },
     "execution_count": 64,
     "metadata": {},
     "output_type": "execute_result"
    }
   ],
   "source": [
    "X = tfidf.fit_transform(movies['string'])\n",
    "X"
   ]
  },
  {
   "cell_type": "markdown",
   "id": "17ef5a91",
   "metadata": {},
   "source": [
    "Gerçek dünyada kullanılacağı için bir ``train`` ve ``test`` setimiz olmayacağına dikkat edin, çünkü bu, bunun nasıl olduğunu yansıtmaz.\n",
    "\n",
    "Şimdi, bir sonraki adım biraz garip görünebilir, ancak şimdi bir sayı matrisi ile çalıştığımızı hatırlayın.Matrix'in hangi satırının hangi filme karşılık geldiği belli değil.Elbette verilerimiz sırayla işlenmiştir.Henüz net olmayan nedenlerden dolayı, bize şunu söyleyen bir haritalamaya sahip olmak faydalı olacaktır.belirli bir film, hangi index değerine sahip?\n",
    "\n",
    "Bunu istemizin sebebi oluşturduğumuz **``X``** değeri ``4803x2000`` bir matrixtir ve **ilk değeri ilk filmi temsil eder ikinci değeri ikinci filmi temsil edecektir** ve eğer filmlerin indexlerine ulaşabilirsek direk olarak filmlerin türlerini ve anahtar kelimelerini temsil eden vektörüne de ulaşabilir oluruz.\n",
    "\n",
    "- Filmlerin adları ``title`` değişkeninde tutulmakta ve amacımız index değerleri isimler olacak onlara karşılık gelenler değerler ise index değerleri olacakır."
   ]
  },
  {
   "cell_type": "code",
   "execution_count": 82,
   "id": "4c972bf3",
   "metadata": {},
   "outputs": [
    {
     "data": {
      "text/plain": [
       "title\n",
       "Avatar                                         0\n",
       "Pirates of the Caribbean: At World's End       1\n",
       "Spectre                                        2\n",
       "The Dark Knight Rises                          3\n",
       "John Carter                                    4\n",
       "                                            ... \n",
       "El Mariachi                                 4798\n",
       "Newlyweds                                   4799\n",
       "Signed, Sealed, Delivered                   4800\n",
       "Shanghai Calling                            4801\n",
       "My Date with Drew                           4802\n",
       "Length: 4803, dtype: int64"
      ]
     },
     "execution_count": 82,
     "metadata": {},
     "output_type": "execute_result"
    }
   ],
   "source": [
    "movies_indexs = pd.Series(movies.index , index = movies['title'])\n",
    "movies_indexs"
   ]
  },
  {
   "cell_type": "markdown",
   "id": "f8b338d3",
   "metadata": {},
   "source": [
    "Tavsiye sistemi oluşturmak istediğimizi biliyoruz ve yapmak istediğimiz şeyi tekrar anlatmak gerekir ise ``Vector Similarity`` mantığı ile vektörlerin diğer vektörler ile olan benzerlik skorunu alabilir bu şekilde bir filmin diğer filme olan benzerliğini türleri(genres) ve anahtar kelimlerini(keywords) vektöre çevirerek başka bir film ile benzerlik skorunu elde ediyor olacağız.**Birisi Avatar filmini izlediğinde bu filmede bence bakmalısınız ?** demek temel amacımız olacaktır.\n",
    "\n",
    "Bu dediklerimizi gerçekleştirmek için tek bir film seçerek onun üzerinden gidelim."
   ]
  },
  {
   "cell_type": "code",
   "execution_count": 81,
   "id": "88431173",
   "metadata": {},
   "outputs": [
    {
     "data": {
      "text/plain": [
       "1164"
      ]
     },
     "execution_count": 81,
     "metadata": {},
     "output_type": "execute_result"
    }
   ],
   "source": [
    "idx = movies_indexs['Scream 3']\n",
    "idx"
   ]
  },
  {
   "cell_type": "markdown",
   "id": "8bf927a7",
   "metadata": {},
   "source": [
    "Scream 3 filminin index değeri **1164**."
   ]
  },
  {
   "cell_type": "code",
   "execution_count": 84,
   "id": "f3af1dcc",
   "metadata": {},
   "outputs": [
    {
     "data": {
      "text/plain": [
       "<1x2000 sparse matrix of type '<class 'numpy.float64'>'\n",
       "\twith 9 stored elements in Compressed Sparse Row format>"
      ]
     },
     "execution_count": 84,
     "metadata": {},
     "output_type": "execute_result"
    }
   ],
   "source": [
    "query = X[idx]\n",
    "query"
   ]
  },
  {
   "cell_type": "code",
   "execution_count": 160,
   "id": "e29ebc5b",
   "metadata": {},
   "outputs": [
    {
     "data": {
      "text/plain": [
       "array([[0., 0., 0., ..., 0., 0., 0.]])"
      ]
     },
     "execution_count": 160,
     "metadata": {},
     "output_type": "execute_result"
    }
   ],
   "source": [
    "query.toarray()"
   ]
  },
  {
   "cell_type": "markdown",
   "id": "77e9d4b5",
   "metadata": {},
   "source": [
    "Scream 3 filminin türlerini ve anahtar kelimelerini bir string olarak saklayıp vektörleşme işlemi gerçekleştirmiştik aslında bunu tüm filmler için yapmıştık şimdi ise bunun bir dizi olarak gösterimini ``toarray()`` metotu ile bakabiliriz.\n",
    "\n",
    "\n",
    "Vector Similarity(Vektör Benzerliği) hesaplamak için kullanabileceğimiz 2 en popüler yöntem bulunmaktadır;\n",
    "- **Cosine Similarity ( Kosinüs Benzerliği )**\n",
    "- **Euclidean Distance ( Oklid Mesafesi )**\n",
    "\n",
    "\n",
    "bulunan iki yöntemden biri olan cosine similarity kullanıyor olacağız."
   ]
  },
  {
   "cell_type": "code",
   "execution_count": 93,
   "id": "1ff07d82",
   "metadata": {},
   "outputs": [
    {
     "data": {
      "text/plain": [
       "array([[0., 0., 0., ..., 0., 0., 0.]])"
      ]
     },
     "execution_count": 93,
     "metadata": {},
     "output_type": "execute_result"
    }
   ],
   "source": [
    "scores = cosine_similarity(query , X)\n",
    "scores"
   ]
  },
  {
   "cell_type": "code",
   "execution_count": 94,
   "id": "b21b53ee",
   "metadata": {},
   "outputs": [
    {
     "data": {
      "text/plain": [
       "(1, 4803)"
      ]
     },
     "execution_count": 94,
     "metadata": {},
     "output_type": "execute_result"
    }
   ],
   "source": [
    "scores.shape"
   ]
  },
  {
   "cell_type": "markdown",
   "id": "b28c254e",
   "metadata": {},
   "source": [
    "Cosine Similarity kullanımdan sonra bize bir dizi döndürdü dizinin uzunluğu ise 4803.Bunun sebebi her bir film ile kıyasladı ve benzerlik skorunu dizi içine kayıt etmiştir."
   ]
  },
  {
   "cell_type": "code",
   "execution_count": 102,
   "id": "bc250542",
   "metadata": {},
   "outputs": [
    {
     "data": {
      "text/plain": [
       "(4803,)"
      ]
     },
     "execution_count": 102,
     "metadata": {},
     "output_type": "execute_result"
    }
   ],
   "source": [
    "# currently the array is 1 x N , make it just  a 1-D array\n",
    "scores = scores.flatten()\n",
    "scores.shape"
   ]
  },
  {
   "cell_type": "markdown",
   "id": "22758f25",
   "metadata": {},
   "source": [
    "Şimdi, dizimiz bir şekle sahip olduğu için, onu bir derece olacak şekilde düzleştirmek istiyoruz.\n",
    "\n",
    "Skor değerleri sütun olarak tutuluyordu ve biz tek bir vektör haline getirmek için ``flatten`` işlevini kullandık.Bu şekilde benzerlik skorları daha temiz tutuluyor olacak ayrıca görselleştirilebilinir olacaktır."
   ]
  },
  {
   "cell_type": "code",
   "execution_count": 103,
   "id": "05ab84d4",
   "metadata": {},
   "outputs": [
    {
     "data": {
      "image/png": "[encoded data removed]",
      "text/plain": [
       "<Figure size 432x288 with 1 Axes>"
      ]
     },
     "metadata": {
      "needs_background": "light"
     },
     "output_type": "display_data"
    }
   ],
   "source": [
    "plt.plot(scores)\n",
    "plt.show()"
   ]
  },
  {
   "cell_type": "markdown",
   "id": "6ba1161f",
   "metadata": {},
   "source": [
    "Bazı değerlerin çok yüksek bazılarının ise çok düşük olduğunu görüyoruz bu Scream 3 filminin diğer filmler ile olan benzerliğini temsil eden bir grafiktir.\n",
    "\n",
    "\n",
    "Şimdi puanları sıralamak gibi bir şey yapmak istediğimizi biliyoruz.İlk olarak, varsayılan olarak sıralamanın genellikle öğelerin artan düzende gitmesiyle sonuçlandığını biliyoruz.Bizim durumumuzda, en benzer öğe önde olacak şekilde azalan sırada gitmelerini istiyoruz.\n",
    "\n",
    "Bunun için numpy kütüphanesi içerisinde bulunan ``np.argsort()`` metotunu kullanıyoruz olacağız.Dizi içerisindeki değerleri sıralar fakat index değerlerini verecektir.\n",
    "```python\n",
    "x = np.array([3, 1, 2])\n",
    "np.argsort(x)\n",
    "# Output\n",
    "array([1, 2, 0])\n",
    "\n",
    "\n",
    "```\n",
    "yukarıdaki örneğe baktığımızda dizi içerisindeki en büyük değer 3 ve index değeri 0 'dır.Çıktı olarak baktığımızda küçükten büyüğe doğru sıralamaktadır ve index değerlerini almaktadır."
   ]
  },
  {
   "cell_type": "code",
   "execution_count": 107,
   "id": "3e0ed11d",
   "metadata": {},
   "outputs": [
    {
     "data": {
      "text/plain": [
       "array([   0, 3010, 3011, ..., 4628, 3902, 1164])"
      ]
     },
     "execution_count": 107,
     "metadata": {},
     "output_type": "execute_result"
    }
   ],
   "source": [
    "# small to big\n",
    "scores.argsort()"
   ]
  },
  {
   "cell_type": "code",
   "execution_count": 113,
   "id": "de6f8e1d",
   "metadata": {},
   "outputs": [
    {
     "data": {
      "text/plain": [
       "array([1164, 3902, 4628, ..., 3011, 3010,    0])"
      ]
     },
     "execution_count": 113,
     "metadata": {},
     "output_type": "execute_result"
    }
   ],
   "source": [
    "# big to small , reverse to array\n",
    "sorted_scores = scores.argsort()[::-1]\n",
    "sorted_scores"
   ]
  },
  {
   "cell_type": "code",
   "execution_count": 112,
   "id": "99440ab9",
   "metadata": {},
   "outputs": [
    {
     "data": {
      "image/png": "[encoded data removed]",
      "text/plain": [
       "<Figure size 432x288 with 1 Axes>"
      ]
     },
     "metadata": {
      "needs_background": "light"
     },
     "output_type": "display_data"
    }
   ],
   "source": [
    "plt.plot(scores[sorted_scores])\n",
    "plt.show()"
   ]
  },
  {
   "cell_type": "markdown",
   "id": "67cfb8ea",
   "metadata": {},
   "source": [
    "En benzer filmden en benzemeyen filmde doğru sıralanmış bir şekilde grafik üzerinde gösterimini görebiliriz.\n",
    "\n",
    "Buraya kadarki süreçte vektörleşme işlemini ve bu vektörleşme işleminden sonra vektör benzerliğini kullanarak film tavsiyesinin yapı taşını kurmuş olduk şimdi ise tavsiye edilen ilk 5 filmi görelim."
   ]
  },
  {
   "cell_type": "code",
   "execution_count": 114,
   "id": "832df6fd",
   "metadata": {},
   "outputs": [
    {
     "data": {
      "text/plain": [
       "array([3902, 4628, 4053, 4048, 1084])"
      ]
     },
     "execution_count": 114,
     "metadata": {},
     "output_type": "execute_result"
    }
   ],
   "source": [
    "recommended_idx = sorted_scores[1:6]\n",
    "recommended_idx"
   ]
  },
  {
   "cell_type": "code",
   "execution_count": 133,
   "id": "08b2ffc6",
   "metadata": {},
   "outputs": [
    {
     "data": {
      "text/plain": [
       "3902    Friday the 13th Part VI: Jason Lives\n",
       "4628                          Graduation Day\n",
       "4053        Friday the 13th: A New Beginning\n",
       "4048                             The Calling\n",
       "1084                         The Glimmer Man\n",
       "Name: title, dtype: object"
      ]
     },
     "execution_count": 133,
     "metadata": {},
     "output_type": "execute_result"
    }
   ],
   "source": [
    "movies['title'].iloc[recommended_idx]"
   ]
  },
  {
   "cell_type": "markdown",
   "id": "988d0d04",
   "metadata": {},
   "source": [
    "Scream 3 filmini izleyen bir kullanıcıya en yüksek benzerlik skoru ile tavsiye edilen 5 film şunlardır;\n",
    "- Friday the 13th Part VI: Jason Lives\n",
    "- Graduation Day\n",
    "- Friday the 13th: A New Beginning\n",
    "- The Calling\n",
    "- The Glimmer Man\n",
    "\n",
    "filmlerin hepsi Scream 3 filminde olduğunu gibi korku ve gerilim temalı filmlerdir."
   ]
  },
  {
   "cell_type": "code",
   "execution_count": 157,
   "id": "56491f93",
   "metadata": {
    "scrolled": true
   },
   "outputs": [],
   "source": [
    "def recommend_movie(title, number_of_recommended_movies):\n",
    "    # index of movie\n",
    "    idx = movies_indexs[title]\n",
    "    if type(idx) == pd.Series:\n",
    "        idx = idx.iloc[0]\n",
    "    # vector version of movie[string]\n",
    "    query = X[idx]\n",
    "    # cosine_similarity\n",
    "    scores = cosine_similarity(query , X)\n",
    "    # currently the array is 1 x N , make it just  a 1-D array\n",
    "    scores = scores.flatten()\n",
    "    # big to small sorted array , return index of values\n",
    "    sorted_scores = scores.argsort()[::-1]\n",
    "    # indexs value of recommended movies\n",
    "    recommended_idx = sorted_scores[1:number_of_recommended_movies+1]\n",
    "    \n",
    "    return pd.DataFrame(movies['title'].iloc[recommended_idx])"
   ]
  },
  {
   "cell_type": "code",
   "execution_count": 158,
   "id": "3653ce5c",
   "metadata": {
    "scrolled": true
   },
   "outputs": [
    {
     "data": {
      "text/html": [
       "<div>\n",
       "<style scoped>\n",
       "    .dataframe tbody tr th:only-of-type {\n",
       "        vertical-align: middle;\n",
       "    }\n",
       "\n",
       "    .dataframe tbody tr th {\n",
       "        vertical-align: top;\n",
       "    }\n",
       "\n",
       "    .dataframe thead th {\n",
       "        text-align: right;\n",
       "    }\n",
       "</style>\n",
       "<table border=\"1\" class=\"dataframe\">\n",
       "  <thead>\n",
       "    <tr style=\"text-align: right;\">\n",
       "      <th></th>\n",
       "      <th>title</th>\n",
       "    </tr>\n",
       "  </thead>\n",
       "  <tbody>\n",
       "    <tr>\n",
       "      <th>47</th>\n",
       "      <td>Star Trek Into Darkness</td>\n",
       "    </tr>\n",
       "    <tr>\n",
       "      <th>3214</th>\n",
       "      <td>Barbarella</td>\n",
       "    </tr>\n",
       "    <tr>\n",
       "      <th>1287</th>\n",
       "      <td>A Monster in Paris</td>\n",
       "    </tr>\n",
       "    <tr>\n",
       "      <th>61</th>\n",
       "      <td>Jupiter Ascending</td>\n",
       "    </tr>\n",
       "    <tr>\n",
       "      <th>3730</th>\n",
       "      <td>Cargo</td>\n",
       "    </tr>\n",
       "  </tbody>\n",
       "</table>\n",
       "</div>"
      ],
      "text/plain": [
       "                        title\n",
       "47    Star Trek Into Darkness\n",
       "3214               Barbarella\n",
       "1287       A Monster in Paris\n",
       "61          Jupiter Ascending\n",
       "3730                    Cargo"
      ]
     },
     "execution_count": 158,
     "metadata": {},
     "output_type": "execute_result"
    }
   ],
   "source": [
    "recommend_movie('Avatar', 5)"
   ]
  },
  {
   "cell_type": "code",
   "execution_count": 159,
   "id": "300fae7d",
   "metadata": {
    "scrolled": true
   },
   "outputs": [
    {
     "data": {
      "text/html": [
       "<div>\n",
       "<style scoped>\n",
       "    .dataframe tbody tr th:only-of-type {\n",
       "        vertical-align: middle;\n",
       "    }\n",
       "\n",
       "    .dataframe tbody tr th {\n",
       "        vertical-align: top;\n",
       "    }\n",
       "\n",
       "    .dataframe thead th {\n",
       "        text-align: right;\n",
       "    }\n",
       "</style>\n",
       "<table border=\"1\" class=\"dataframe\">\n",
       "  <thead>\n",
       "    <tr style=\"text-align: right;\">\n",
       "      <th></th>\n",
       "      <th>title</th>\n",
       "    </tr>\n",
       "  </thead>\n",
       "  <tbody>\n",
       "    <tr>\n",
       "      <th>373</th>\n",
       "      <td>Mission to Mars</td>\n",
       "    </tr>\n",
       "    <tr>\n",
       "      <th>205</th>\n",
       "      <td>Sherlock Holmes: A Game of Shadows</td>\n",
       "    </tr>\n",
       "    <tr>\n",
       "      <th>3405</th>\n",
       "      <td>Stargate: The Ark of Truth</td>\n",
       "    </tr>\n",
       "    <tr>\n",
       "      <th>2964</th>\n",
       "      <td>The Last Days on Mars</td>\n",
       "    </tr>\n",
       "    <tr>\n",
       "      <th>4384</th>\n",
       "      <td>Guiana 1838</td>\n",
       "    </tr>\n",
       "  </tbody>\n",
       "</table>\n",
       "</div>"
      ],
      "text/plain": [
       "                                   title\n",
       "373                      Mission to Mars\n",
       "205   Sherlock Holmes: A Game of Shadows\n",
       "3405          Stargate: The Ark of Truth\n",
       "2964               The Last Days on Mars\n",
       "4384                         Guiana 1838"
      ]
     },
     "execution_count": 159,
     "metadata": {},
     "output_type": "execute_result"
    }
   ],
   "source": [
    "recommend_movie('John Carter', 5)"
   ]
  }
 ],
 "metadata": {
  "kernelspec": {
   "display_name": "Python 3 (ipykernel)",
   "language": "python",
   "name": "python3"
  },
  "language_info": {
   "codemirror_mode": {
    "name": "ipython",
    "version": 3
   },
   "file_extension": ".py",
   "mimetype": "text/x-python",
   "name": "python",
   "nbconvert_exporter": "python",
   "pygments_lexer": "ipython3",
   "version": "3.9.12"
  }
 },
 "nbformat": 4,
 "nbformat_minor": 5
}
